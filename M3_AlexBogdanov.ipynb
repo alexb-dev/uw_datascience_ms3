{
 "cells": [
  {
   "cell_type": "markdown",
   "metadata": {
    "lines_to_next_cell": 2
   },
   "source": [
    "### Capstone - Final Project\n",
    "\n",
    "Milestone 3 continues your work with the diaper manufacturing problem, using the same datasets:\n",
    "\n",
    "- a dataset file SECOM containing 1567 examples, each with 591 features, presented in a 1567 x 591 matrix\n",
    "- a labels file listing the classifications and date time stamp for each example \n",
    "\n",
    "#### Instructions\n",
    "Create a new notebook and perform each of the following tasks and answer the related questions:\n",
    "\n",
    "- Build a simple neural networks model\n",
    "- Build a DNN model\n",
    "- Build a RNN model\n",
    "- Summarize your findings with examples.  Explain what the manufacturer should focus on to optimize the diaper manufacturing process.\n",
    "- Solicit specific feedback on your code (instructions below).\n",
    "\n",
    "#### Instructions to Solicit Feedback\n",
    "Write 2-3 questions soliciting feedback on specific aspects on the assignment. For example, if you did something one way but are unsure if there might be a different or better way to do it, ask for feedback on that part. You may submit these questions by commenting out in the code within your .ipynb file or by typing them below your file name in the Your Response box on the Submit Milestone Assignment page. While the questions you submit will have no bearing on your grade, by doing so, you will engage more actively with the assignment and we will also be able to give you pointed feedback.\n",
    "\n"
   ]
  },
  {
   "cell_type": "markdown",
   "metadata": {},
   "source": []
  },
  {
   "cell_type": "code",
   "execution_count": 1,
   "metadata": {},
   "outputs": [
    {
     "name": "stdout",
     "output_type": "stream",
     "text": [
      "Couldn't import dot_parser, loading of dot files will not be possible.\n"
     ]
    }
   ],
   "source": [
    "import pandas as pd\n",
    "import matplotlib.pyplot as plt\n",
    "# import numpy as np\n",
    "import sklearn\n",
    "from sklearn.tree import DecisionTreeClassifier\n",
    "# from sklearn.metrics import roc_auc_score\n",
    "from sklearn.metrics import accuracy_score, precision_recall_fscore_support\n",
    "# from sklearn import tree\n",
    "from sklearn.model_selection import train_test_split\n",
    "from sklearn.metrics import confusion_matrix\n",
    "from sklearn.utils import resample\n",
    "import tensorflow as tf\n",
    "from tensorflow import keras"
   ]
  },
  {
   "cell_type": "code",
   "execution_count": 7,
   "metadata": {
    "lines_to_next_cell": 2
   },
   "outputs": [],
   "source": [
    "# reading data and labels\n",
    "data = pd.read_csv(r'https://archive.ics.uci.edu/ml/machine-learning-databases/secom/secom.data', sep=' ', header=None)\n",
    "labels = pd.read_csv(r'https://archive.ics.uci.edu/ml/machine-learning-databases/secom/secom_labels.data',sep=' ', header=None)"
   ]
  },
  {
   "cell_type": "code",
   "execution_count": 8,
   "metadata": {},
   "outputs": [],
   "source": [
    "# labels\n",
    "# –1 corresponds to a pass and 1 corresponds to a fail \n",
    "labels = labels.iloc[:,:1]\n",
    "y=labels[0].values\n",
    "\n",
    "# lets make classes 0 or 1, not -1 or 1\n",
    "# 0 = pass\n",
    "# 1 = fail#\n",
    "y[y == -1] = 0"
   ]
  },
  {
   "cell_type": "markdown",
   "metadata": {},
   "source": [
    "#### We already did initial data assessment on a previous milestone, so lets skip forward thru data preparation"
   ]
  },
  {
   "cell_type": "code",
   "execution_count": 9,
   "metadata": {},
   "outputs": [
    {
     "name": "stdout",
     "output_type": "stream",
     "text": [
      "The SECOM data set now has 538 variables.\n"
     ]
    }
   ],
   "source": [
    "#We process the missing values first, dropping columns which have a large number of missing values \n",
    "#and imputing values for those that have only a few missing values. \n",
    "# lets delete columns, that has > 100 missing values\n",
    "na_data = data.isnull().sum()\n",
    "bad_features = [int(i) for i in na_data.keys() if na_data[i] > 100]\n",
    "\n",
    "#removing missing features\n",
    "data.drop(bad_features, axis=1, inplace=True)\n",
    "\n",
    "# replace NaN with mean values for each column\n",
    "data = data.apply(lambda x: x.fillna(x.mean()),axis=0)\n",
    "print ('The SECOM data set now has {} variables.'.format(data.shape[1]))"
   ]
  },
  {
   "cell_type": "code",
   "execution_count": 10,
   "metadata": {},
   "outputs": [],
   "source": [
    "# lets scale features to standard normal distribution\n",
    "# it is very important to do it before filtering\n",
    "from sklearn.preprocessing import StandardScaler\n",
    "sc_x=StandardScaler()\n",
    "data_scaled=sc_x.fit_transform(data)"
   ]
  },
  {
   "cell_type": "markdown",
   "metadata": {},
   "source": [
    "#### We still have too many features to handle (more than 500), we need to reduce dimentionality. Will use principal component analysis to retain features, that could explain 80% of variance. I've picked 80%, because it keeps reasonable amount of features (82) . "
   ]
  },
  {
   "cell_type": "code",
   "execution_count": 11,
   "metadata": {
    "lines_to_next_cell": 2
   },
   "outputs": [
    {
     "name": "stdout",
     "output_type": "stream",
     "text": [
      "The filtered data set now has 122 variables.\n"
     ]
    }
   ],
   "source": [
    "# Lets do fitering using Principal component analysis (PCA)\n",
    "# We will leave most important features, which explain 80% variance\n",
    "from sklearn.decomposition import PCA\n",
    "pca = PCA(n_components = 0.90)\n",
    "pca.fit(data_scaled)\n",
    "x_reduced = pca.transform(data_scaled)\n",
    "print ('The filtered data set now has {} variables.'.format(x_reduced.shape[1]))"
   ]
  },
  {
   "cell_type": "code",
   "execution_count": 12,
   "metadata": {},
   "outputs": [],
   "source": [
    "# splitting into training and testing sets\n",
    "# we have good amount of records (1500), so the standard 80/20 split should work\n",
    "import sklearn\n",
    "from sklearn.model_selection import train_test_split"
   ]
  },
  {
   "cell_type": "code",
   "execution_count": 13,
   "metadata": {},
   "outputs": [],
   "source": [
    "X_train, X_test, y_train, y_test = train_test_split(x_reduced, y, \n",
    "                                             test_size=0.2, \n",
    "                                             stratify=y, \n",
    "                                             random_state=5)"
   ]
  },
  {
   "cell_type": "markdown",
   "metadata": {},
   "source": [
    "#### The next step is to deal with imbalance, lets try 3 different strategies:\n",
    "#### start with using synthetic minority oversampling (SMOTE)"
   ]
  },
  {
   "cell_type": "code",
   "execution_count": 16,
   "metadata": {},
   "outputs": [
    {
     "name": "stdout",
     "output_type": "stream",
     "text": [
      "Before resampling: \n",
      "The majority/minority class have 1170 and 83 elements respectively.\n",
      "After oversampling at 0.5%: \n",
      "The majority/minority class have 1170 and 1170 elements respectively.\n"
     ]
    }
   ],
   "source": [
    "# lets address class imbalance problem\n",
    "# will use SMOTE (Synthetic Minority Oversampling Technique,)\n",
    "# !pip install imblearn\n",
    "# import imblearn\n",
    "from imblearn.over_sampling import SMOTE\n",
    "# oversampling\n",
    "ratio = 0.5\n",
    "smote = SMOTE(random_state=42)\n",
    "smox, smoy = smote.fit_sample(X_train, y_train)\n",
    "print ('Before resampling: \\nThe majority/minority class have {} and {} elements respectively.'.format(y_train[y_train == 0].size, y_train[y_train == 1].size))\n",
    "print ('After oversampling at {}%: \\nThe majority/minority class have {} and {} elements respectively.'.format(ratio, smoy[smoy == 0].size, smoy[smoy == 1].size))"
   ]
  },
  {
   "cell_type": "markdown",
   "metadata": {},
   "source": [
    "#### For the down sampling we only ended up with 83 training samples, that is very few. Will see where we get."
   ]
  },
  {
   "cell_type": "markdown",
   "metadata": {},
   "source": [
    "### Classifier statistics helper function\n",
    "This will print out main classifier statistics, such as accuracy, precision, recall.\n",
    "In full report mode it will also print a confusion matrix."
   ]
  },
  {
   "cell_type": "code",
   "execution_count": 17,
   "metadata": {},
   "outputs": [],
   "source": [
    "#--------------------------------------------\n",
    "def print_stat(y_test, y_predict_test, text = '', full_report=True):\n",
    "     \n",
    "    \"\"\" Print prediction model statistics\"\"\" \n",
    "    cm_train = pd.DataFrame(\n",
    "        confusion_matrix(y_test, y_predict_test),\n",
    "        columns=['Predicted pass (negative)', 'Predicted fail (positive)'],\n",
    "        index=['True pass (negative)', 'True fail (positive)']\n",
    "    )\n",
    "\n",
    "    # accuray\n",
    "    acc_test = accuracy_score(y_test, y_predict_test)\n",
    "    \n",
    "    # ROC AUC \n",
    "    roc_auc = 0\n",
    "    try:\n",
    "        roc_auc = sklearn.metrics.roc_auc_score(y_test, y_predict_test)\n",
    "    except:\n",
    "        pass    \n",
    "    # precision recall    \n",
    "    p, r, _ , _ = precision_recall_fscore_support(y_test, y_predict_test)\n",
    "    # precision is the ratio tp / (tp + fp)\n",
    "    # recall is the ratio tp / (tp + fn)\n",
    "    \n",
    "    if full_report:\n",
    "        print(text)\n",
    "        print('Confusion matrix:')\n",
    "        print(cm_train)\n",
    "        print('\\n')\n",
    "        # tn, fp, fn, tp = confusion_matrix(y_test, y_predict_test).ravel()\n",
    "        # print(tn, fp, fn, tp)\n",
    "\n",
    "        print(\"Accuracy : {:.2f}\".format(acc_test))\n",
    "        print(f'ROC AUC score : {roc_auc:.2f}')\n",
    "        print(f'Precision : {p[1]:.2f}')\n",
    "        print(f'Recall : {r[1]:.2f}\\n')\n",
    "\n",
    "\n",
    "    else:\n",
    "        print(f'{text} ACC={acc_test:.2f} ROCAUC={roc_auc:.2f} PRE={p[1]:.2f} RECALL={r[1]:.2f}')\n"
   ]
  },
  {
   "cell_type": "markdown",
   "metadata": {},
   "source": [
    "### Plot neural network diagnostics helper function\n",
    "This function will help us to plot learning curves for train and test data over time"
   ]
  },
  {
   "cell_type": "code",
   "execution_count": 19,
   "metadata": {},
   "outputs": [],
   "source": [
    "# ----------------------------------------------------------------------------\n",
    "def summarize_diagnostics(history):\n",
    "    \"\"\" Plot diagnostic learning curves\n",
    "    \n",
    "    history.history: attribute is a record of training loss values and metrics values at successive epochs, \n",
    "            as well as validation loss values and validation metrics values (if applicable).\n",
    "    \"\"\"\n",
    "    # plot loss\n",
    "    # plt.subplot(211)\n",
    "    # plt.title('Cross Entropy Loss')\n",
    "    # plt.plot(history.history['loss'], color='blue', label='train')\n",
    "    # plt.plot(history.history['val_loss'], color='orange', label='test')\n",
    "    # plt.legend(loc=\"upper right\")\n",
    "    # plt.xlabel('Epochs')\n",
    "    # plt.xlabel('Loss')\n",
    "    # plt.show()\n",
    "    # plot accuracy\n",
    "    plt.subplot(212)\n",
    "    plt.title('Classification Accuracy')\n",
    "    plt.plot(history.history['accuracy'], color='blue', label='train')\n",
    "    plt.plot(history.history['val_accuracy'], color='orange', label='test')\n",
    "    plt.legend(loc=\"lower right\")\n",
    "    plt.xlabel('Epochs #')\n",
    "    plt.ylabel('Accuracy')\n",
    "    \n",
    "    plt.show()"
   ]
  },
  {
   "cell_type": "markdown",
   "metadata": {},
   "source": [
    "### Simple neural network.\n",
    "The simplest network is a preceptron, it has only on input and one output layer. No hidden layers.\n",
    "We will use binary_crossentropy as a loss function since we only have binary classification.\n",
    "Will run it for 5 epochs and print out statistics."
   ]
  },
  {
   "cell_type": "code",
   "execution_count": 20,
   "metadata": {},
   "outputs": [
    {
     "name": "stdout",
     "output_type": "stream",
     "text": [
      " ----------->>> SIMPLE NN  Classifier <<<--------------\n",
      "Epoch 1/5\n",
      "74/74 [==============================] - 0s 664us/step - loss: 1.0082 - accuracy: 0.4902\n",
      "Epoch 2/5\n",
      "74/74 [==============================] - 0s 605us/step - loss: 0.7876 - accuracy: 0.5983\n",
      "Epoch 3/5\n",
      "74/74 [==============================] - 0s 584us/step - loss: 0.6678 - accuracy: 0.6718\n",
      "Epoch 4/5\n",
      "74/74 [==============================] - 0s 594us/step - loss: 0.5942 - accuracy: 0.7132\n",
      "Epoch 5/5\n",
      "74/74 [==============================] - 0s 608us/step - loss: 0.5452 - accuracy: 0.7462\n",
      "Model: \"sequential\"\n",
      "_________________________________________________________________\n",
      "Layer (type)                 Output Shape              Param #   \n",
      "=================================================================\n",
      "dense (Dense)                multiple                  123       \n",
      "=================================================================\n",
      "Total params: 123\n",
      "Trainable params: 123\n",
      "Non-trainable params: 0\n",
      "_________________________________________________________________\n",
      "None\n",
      "WARNING:tensorflow:From <ipython-input-20-600228a419b0>:24: Sequential.predict_classes (from tensorflow.python.keras.engine.sequential) is deprecated and will be removed after 2021-01-01.\n",
      "Instructions for updating:\n",
      "Please use instead:* `np.argmax(model.predict(x), axis=-1)`,   if your model does multi-class classification   (e.g. if it uses a `softmax` last-layer activation).* `(model.predict(x) > 0.5).astype(\"int32\")`,   if your model does binary classification   (e.g. if it uses a `sigmoid` last-layer activation).\n",
      "SIMPLE NN   ACC=0.53 ROCAUC=0.49 PRE=0.38 RECALL=0.06\n",
      "SIMPLE NN  \n",
      "Confusion matrix:\n",
      "                      Predicted pass (negative)  Predicted fail (positive)\n",
      "True pass (negative)                        159                         13\n",
      "True fail (positive)                        134                          8\n",
      "\n",
      "\n",
      "Accuracy : 0.53\n",
      "ROC AUC score : 0.49\n",
      "Precision : 0.38\n",
      "Recall : 0.06\n",
      "\n"
     ]
    },
    {
     "data": {
      "image/png": "[encoded data removed]",
      "text/plain": [
       "<Figure size 432x288 with 1 Axes>"
      ]
     },
     "metadata": {
      "needs_background": "light"
     },
     "output_type": "display_data"
    }
   ],
   "source": [
    "print (' ----------->>> SIMPLE NN  Classifier <<<--------------')\n",
    "\n",
    "\n",
    "train_labels = smoy\n",
    "train_x = smox \n",
    "\n",
    "\n",
    "model = keras.Sequential([\n",
    "    # keras.layers.Dense(50, activation='relu'),\n",
    "    keras.layers.Dense(1, activation='sigmoid')\n",
    "])\n",
    "\n",
    "model.compile(optimizer='adam',\n",
    "              loss='binary_crossentropy',\n",
    "              metrics=['accuracy'])\n",
    "\n",
    "\n",
    "\n",
    "model.fit(train_x, train_labels, epochs=5)\n",
    "\n",
    "print(model.summary())\n",
    "\n",
    "# make class predictions with the model\n",
    "y_test_pred = model.predict_classes(X_test)\n",
    "\n",
    "print_stat(y_test_pred, y_test, full_report=False, text='SIMPLE NN  ')\n",
    "print_stat(y_test_pred, y_test, full_report=True, text='SIMPLE NN  ')\n",
    "\n",
    "history = model.fit(train_x, train_labels, validation_data=(X_test, y_test), epochs=20, verbose=0)\n",
    "summarize_diagnostics(history)"
   ]
  },
  {
   "cell_type": "markdown",
   "metadata": {},
   "source": [
    "We've achieved a mediocre accuracy of 53%.\n",
    "We have to keep in mind, that our classes are biased, we have 90% of 0s. That means that a random classifier will easily achieve almost 50% accuracy, since we are dominated by one class.\n",
    "\n",
    "### DNN.\n",
    "Lets add two hidden layers with 50 elements. And run it for 5 epochs."
   ]
  },
  {
   "cell_type": "code",
   "execution_count": 28,
   "metadata": {},
   "outputs": [
    {
     "name": "stdout",
     "output_type": "stream",
     "text": [
      "Epoch 1/5\n",
      "74/74 [==============================] - 0s 877us/step - loss: 0.4749 - accuracy: 0.7889\n",
      "Epoch 2/5\n",
      "74/74 [==============================] - 0s 818us/step - loss: 0.2179 - accuracy: 0.9397\n",
      "Epoch 3/5\n",
      "74/74 [==============================] - 0s 790us/step - loss: 0.1166 - accuracy: 0.9765\n",
      "Epoch 4/5\n",
      "74/74 [==============================] - 0s 771us/step - loss: 0.0594 - accuracy: 0.9927\n",
      "Epoch 5/5\n",
      "74/74 [==============================] - 0s 809us/step - loss: 0.0319 - accuracy: 0.9974\n",
      "Model: \"sequential_8\"\n",
      "_________________________________________________________________\n",
      "Layer (type)                 Output Shape              Param #   \n",
      "=================================================================\n",
      "dense_19 (Dense)             multiple                  6150      \n",
      "_________________________________________________________________\n",
      "dense_20 (Dense)             multiple                  2550      \n",
      "_________________________________________________________________\n",
      "dense_21 (Dense)             multiple                  51        \n",
      "=================================================================\n",
      "Total params: 8,751\n",
      "Trainable params: 8,751\n",
      "Non-trainable params: 0\n",
      "_________________________________________________________________\n",
      "None\n",
      "SIMPLE NN   ACC=0.84 ROCAUC=0.46 PRE=0.00 RECALL=0.00\n",
      "SIMPLE NN  \n",
      "Confusion matrix:\n",
      "                      Predicted pass (negative)  Predicted fail (positive)\n",
      "True pass (negative)                        264                         21\n",
      "True fail (positive)                         29                          0\n",
      "\n",
      "\n",
      "Accuracy : 0.84\n",
      "ROC AUC score : 0.46\n",
      "Precision : 0.00\n",
      "Recall : 0.00\n",
      "\n"
     ]
    },
    {
     "data": {
      "image/png": "[encoded data removed]",
      "text/plain": [
       "<Figure size 432x288 with 1 Axes>"
      ]
     },
     "metadata": {
      "needs_background": "light"
     },
     "output_type": "display_data"
    }
   ],
   "source": [
    "train_labels = smoy\n",
    "train_x = smox # X_train_upsampled\n",
    "\n",
    "# TensorFlow and tf.keras\n",
    "\n",
    "model = keras.Sequential([\n",
    "    keras.layers.Dense(50, activation='relu'),\n",
    "    keras.layers.Dense(50, activation='relu'),\n",
    "    \n",
    "    keras.layers.Dense(1, activation='sigmoid')\n",
    "])\n",
    "\n",
    "model.compile(optimizer='adam',\n",
    "              loss='binary_crossentropy',\n",
    "              metrics=['accuracy'])\n",
    "\n",
    "\n",
    "model.fit(train_x, train_labels, epochs=5)\n",
    "print(model.summary())\n",
    "\n",
    "# make class predictions with the model\n",
    "y_test_pred = model.predict_classes(X_test)\n",
    "\n",
    "print_stat(y_test_pred, y_test, full_report=False, text='SIMPLE NN  ')\n",
    "print_stat(y_test_pred, y_test, full_report=True, text='SIMPLE NN  ')\n",
    "\n",
    "history = model.fit(train_x, train_labels, validation_data=(X_test, y_test), epochs=5, verbose=0)\n",
    "summarize_diagnostics(history)\n"
   ]
  },
  {
   "cell_type": "markdown",
   "metadata": {},
   "source": [
    "The accuracy is much better, around 85%. However precision and recall is very small, and our underrepresented class is rarely well predicted.\n",
    "### RNN, recursive network.\n",
    "Lets build a simple RNN, with one recurrent layer of 50 units, followed  by  LSTM layer with size 50. \n",
    "Note, to feed the data to RNN we need to reshape our data to represented batch/timesteps/feature. We will use only one timestamp. \n"
   ]
  },
  {
   "cell_type": "code",
   "execution_count": 37,
   "metadata": {},
   "outputs": [
    {
     "name": "stdout",
     "output_type": "stream",
     "text": [
      " ----------->>> RNN  Classifier <<<--------------\n",
      "Model: \"sequential_17\"\n",
      "_________________________________________________________________\n",
      "Layer (type)                 Output Shape              Param #   \n",
      "=================================================================\n",
      "simple_rnn_8 (SimpleRNN)     (None, 1, 50)             8650      \n",
      "_________________________________________________________________\n",
      "lstm_8 (LSTM)                (None, 50)                20200     \n",
      "_________________________________________________________________\n",
      "dense_34 (Dense)             (None, 1)                 51        \n",
      "=================================================================\n",
      "Total params: 28,901\n",
      "Trainable params: 28,901\n",
      "Non-trainable params: 0\n",
      "_________________________________________________________________\n",
      "None\n",
      "Epoch 1/10\n",
      "74/74 [==============================] - 0s 2ms/step - loss: 0.5632 - accuracy: 0.7444\n",
      "Epoch 2/10\n",
      "74/74 [==============================] - 0s 2ms/step - loss: 0.3558 - accuracy: 0.8714\n",
      "Epoch 3/10\n",
      "74/74 [==============================] - 0s 2ms/step - loss: 0.2134 - accuracy: 0.9397\n",
      "Epoch 4/10\n",
      "74/74 [==============================] - 0s 2ms/step - loss: 0.1194 - accuracy: 0.9765\n",
      "Epoch 5/10\n",
      "74/74 [==============================] - 0s 2ms/step - loss: 0.0637 - accuracy: 0.9923\n",
      "Epoch 6/10\n",
      "74/74 [==============================] - 0s 2ms/step - loss: 0.0351 - accuracy: 0.9979\n",
      "Epoch 7/10\n",
      "74/74 [==============================] - 0s 2ms/step - loss: 0.0216 - accuracy: 0.9987\n",
      "Epoch 8/10\n",
      "74/74 [==============================] - 0s 2ms/step - loss: 0.0144 - accuracy: 0.9987\n",
      "Epoch 9/10\n",
      "74/74 [==============================] - 0s 2ms/step - loss: 0.0103 - accuracy: 0.9987\n",
      "Epoch 10/10\n",
      "74/74 [==============================] - 0s 2ms/step - loss: 0.0076 - accuracy: 0.9987\n",
      "RNN   ACC=0.85 ROCAUC=0.50 PRE=0.10 RECALL=0.06\n",
      "RNN  \n",
      "Confusion matrix:\n",
      "                      Predicted pass (negative)  Predicted fail (positive)\n",
      "True pass (negative)                        264                         19\n",
      "True fail (positive)                         29                          2\n",
      "\n",
      "\n",
      "Accuracy : 0.85\n",
      "ROC AUC score : 0.50\n",
      "Precision : 0.10\n",
      "Recall : 0.06\n",
      "\n"
     ]
    }
   ],
   "source": [
    "print (' ----------->>> RNN  Classifier <<<--------------')\n",
    "train_labels = smoy\n",
    "train_x = smox # X_train_upsampled\n",
    "\n",
    "\n",
    "# reshape to  [batch, timesteps, feature].\n",
    "train_x = train_x.reshape((train_x.shape[0], 1, train_x.shape[1]))\n",
    "X_test_reshaped = X_test.reshape((X_test.shape[0], 1, X_test.shape[1]))\n",
    "\n",
    "\n",
    "model = keras.Sequential()\n",
    "model.add(keras.layers.SimpleRNN(50, input_shape=(train_x.shape[1], train_x.shape[2]), return_sequences=True))\n",
    "\n",
    "# Add a LSTM layer with 128 internal units.\n",
    "model.add(keras.layers.LSTM(50))\n",
    "\n",
    "# Add a Dense layer with 10 units.\n",
    "#model.add(keras.layers.Dense(10))\n",
    "model.add(keras.layers.Dense(1, activation='sigmoid'))\n",
    "\n",
    "# compile RNN model\n",
    "model.compile(loss='binary_crossentropy', optimizer='adam', metrics=['accuracy'])\n",
    "\n",
    "# print RNN model summary\n",
    "print(model.summary())\n",
    "\n",
    "model.fit(train_x, train_labels, epochs=10)\n",
    "\n",
    "\n",
    "# make class predictions with the model\n",
    "y_test_pred = model.predict_classes(X_test_reshaped)\n",
    "\n",
    "print_stat(y_test_pred, y_test, full_report=False, text='RNN  ')\n",
    "print_stat(y_test_pred, y_test, full_report=True, text='RNN  ')\n",
    "\n"
   ]
  },
  {
   "cell_type": "markdown",
   "metadata": {},
   "source": [
    "Again, accuracy is pretty good, but out prediction for failed samples (\"positive\" class) is not very good.\n",
    "\n",
    "### Conclusions\n",
    "For our project we need to be doing quality control, successfully detecting faulty products.\n",
    "For that we need to minimize  false negative (the items that are faulty, but are predicted as good).\n",
    "Also, we need to minimize false positive (the products, that are actually good quality, but predicted as faulty).\n",
    "So we are after maximizing recall and precision. \n",
    "Out of current classifier, RNN and DNN demonstrated comparable quality, but still tending to mispredict true positive of under-represented class. DNN runs a little bit faster.\n",
    "\n",
    "\n"
   ]
  }
 ],
 "metadata": {
  "jupytext": {
   "cell_metadata_filter": "-all",
   "encoding": "# -*- coding: utf-8 -*-",
   "executable": "/usr/bin/env python3",
   "notebook_metadata_filter": "-all",
   "text_representation": {
    "extension": ".py",
    "format_name": "light"
   }
  },
  "kernelspec": {
   "display_name": "Python 3",
   "language": "python",
   "name": "python3"
  },
  "language_info": {
   "codemirror_mode": {
    "name": "ipython",
    "version": 3
   },
   "file_extension": ".py",
   "mimetype": "text/x-python",
   "name": "python",
   "nbconvert_exporter": "python",
   "pygments_lexer": "ipython3",
   "version": "3.7.4"
  }
 },
 "nbformat": 4,
 "nbformat_minor": 2
}
